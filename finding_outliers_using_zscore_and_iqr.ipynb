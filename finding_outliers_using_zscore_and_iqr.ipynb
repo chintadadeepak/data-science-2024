{
 "cells": [
  {
   "cell_type": "markdown",
   "id": "8a54e75c",
   "metadata": {},
   "source": [
    "# Finding outliers using z_score"
   ]
  },
  {
   "cell_type": "code",
   "execution_count": null,
   "id": "317b8ec3",
   "metadata": {},
   "outputs": [],
   "source": [
    "data = [11,10,12,14,12,15,14,13,15,102,12,14,17,19,107, 10,13,12,14,12,108,12,11,14,13,15,10,15,12,10,14,13,15,10]"
   ]
  },
  {
   "cell_type": "code",
   "execution_count": 2,
   "id": "2db9eae0",
   "metadata": {},
   "outputs": [],
   "source": [
    "import numpy as np"
   ]
  },
  {
   "cell_type": "code",
   "execution_count": 3,
   "id": "4393bbe4",
   "metadata": {},
   "outputs": [],
   "source": [
    "def find_outliers(data):\n",
    "    outliers = []\n",
    "    thresold = 3\n",
    "    mean = np.mean(data)\n",
    "    std = np.std(data)\n",
    "    for ele in data:\n",
    "        z_score = abs((ele - mean) / std)\n",
    "        if z_score > thresold:\n",
    "            outliers.append(ele)\n",
    "    \n",
    "    return outliers"
   ]
  },
  {
   "cell_type": "code",
   "execution_count": 4,
   "id": "2b7c9706",
   "metadata": {},
   "outputs": [
    {
     "data": {
      "text/plain": [
       "[102, 107, 108]"
      ]
     },
     "execution_count": 4,
     "metadata": {},
     "output_type": "execute_result"
    }
   ],
   "source": [
    "find_outliers(data)"
   ]
  },
  {
   "cell_type": "markdown",
   "id": "18f58709",
   "metadata": {},
   "source": [
    "# Finding outliers using iqr"
   ]
  },
  {
   "cell_type": "code",
   "execution_count": 6,
   "id": "f4ee33b5",
   "metadata": {},
   "outputs": [],
   "source": [
    "q1, q3 = np.percentile(data, [25, 75])"
   ]
  },
  {
   "cell_type": "code",
   "execution_count": 7,
   "id": "ac3afd92",
   "metadata": {},
   "outputs": [
    {
     "name": "stdout",
     "output_type": "stream",
     "text": [
      "12.0 15.0\n"
     ]
    }
   ],
   "source": [
    "print(q1, q3)"
   ]
  },
  {
   "cell_type": "code",
   "execution_count": 8,
   "id": "d2f52771",
   "metadata": {},
   "outputs": [],
   "source": [
    "iqr = q3 - q1\n",
    "lower_fence = q1 - 1.5 * iqr\n",
    "higher_fence = q3 + 1.5 * iqr"
   ]
  },
  {
   "cell_type": "code",
   "execution_count": 9,
   "id": "057df66e",
   "metadata": {},
   "outputs": [
    {
     "name": "stdout",
     "output_type": "stream",
     "text": [
      "7.5 19.5\n"
     ]
    }
   ],
   "source": [
    "print(lower_fence, higher_fence)"
   ]
  },
  {
   "cell_type": "code",
   "execution_count": 10,
   "id": "3d63c2c2",
   "metadata": {},
   "outputs": [],
   "source": [
    "outliers = []\n",
    "for ele in data:\n",
    "    if ele < lower_fence or ele > higher_fence:\n",
    "        outliers.append(ele)\n"
   ]
  },
  {
   "cell_type": "code",
   "execution_count": 11,
   "id": "a0012c66",
   "metadata": {},
   "outputs": [
    {
     "name": "stdout",
     "output_type": "stream",
     "text": [
      "[102, 107, 108]\n"
     ]
    }
   ],
   "source": [
    "print(outliers)"
   ]
  },
  {
   "cell_type": "markdown",
   "id": "c51a3c19",
   "metadata": {},
   "source": [
    "# Using Seaborn to find the outliers using box plot"
   ]
  },
  {
   "cell_type": "code",
   "execution_count": 12,
   "id": "8d65ebc7",
   "metadata": {},
   "outputs": [],
   "source": [
    "import seaborn as sns"
   ]
  },
  {
   "cell_type": "code",
   "execution_count": 13,
   "id": "b5c18cef",
   "metadata": {},
   "outputs": [
    {
     "data": {
      "text/plain": [
       "<AxesSubplot:ylabel='Count'>"
      ]
     },
     "execution_count": 13,
     "metadata": {},
     "output_type": "execute_result"
    },
    {
     "data": {
      "image/png": "[encoded data removed]",
      "text/plain": [
       "<Figure size 640x480 with 1 Axes>"
      ]
     },
     "metadata": {},
     "output_type": "display_data"
    }
   ],
   "source": [
    "sns.histplot(data, kde=True)"
   ]
  }
 ],
 "metadata": {
  "kernelspec": {
   "display_name": "Python 3 (ipykernel)",
   "language": "python",
   "name": "python3"
  },
  "language_info": {
   "codemirror_mode": {
    "name": "ipython",
    "version": 3
   },
   "file_extension": ".py",
   "mimetype": "text/x-python",
   "name": "python",
   "nbconvert_exporter": "python",
   "pygments_lexer": "ipython3",
   "version": "3.9.13"
  }
 },
 "nbformat": 4,
 "nbformat_minor": 5
}
